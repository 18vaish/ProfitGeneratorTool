{
  "cells": [
    {
      "cell_type": "code",
      "execution_count": null,
      "metadata": {
        "id": "IxHg2QiWrJQ5"
      },
      "outputs": [],
      "source": [
        "from google.colab import files"
      ]
    },
    {
      "cell_type": "code",
      "execution_count": null,
      "metadata": {
        "colab": {
          "base_uri": "https://localhost:8080/",
          "height": 73
        },
        "id": "2OCmy9-ArSnH",
        "outputId": "1ec5c2b3-9a75-47de-98c0-fd3399605777"
      },
      "outputs": [
        {
          "data": {
            "text/html": [
              "\n",
              "     <input type=\"file\" id=\"files-2fd191fc-d4ba-47aa-9e0f-cf8e821c1b5f\" name=\"files[]\" multiple disabled\n",
              "        style=\"border:none\" />\n",
              "     <output id=\"result-2fd191fc-d4ba-47aa-9e0f-cf8e821c1b5f\">\n",
              "      Upload widget is only available when the cell has been executed in the\n",
              "      current browser session. Please rerun this cell to enable.\n",
              "      </output>\n",
              "      <script>// Copyright 2017 Google LLC\n",
              "//\n",
              "// Licensed under the Apache License, Version 2.0 (the \"License\");\n",
              "// you may not use this file except in compliance with the License.\n",
              "// You may obtain a copy of the License at\n",
              "//\n",
              "//      http://www.apache.org/licenses/LICENSE-2.0\n",
              "//\n",
              "// Unless required by applicable law or agreed to in writing, software\n",
              "// distributed under the License is distributed on an \"AS IS\" BASIS,\n",
              "// WITHOUT WARRANTIES OR CONDITIONS OF ANY KIND, either express or implied.\n",
              "// See the License for the specific language governing permissions and\n",
              "// limitations under the License.\n",
              "\n",
              "/**\n",
              " * @fileoverview Helpers for google.colab Python module.\n",
              " */\n",
              "(function(scope) {\n",
              "function span(text, styleAttributes = {}) {\n",
              "  const element = document.createElement('span');\n",
              "  element.textContent = text;\n",
              "  for (const key of Object.keys(styleAttributes)) {\n",
              "    element.style[key] = styleAttributes[key];\n",
              "  }\n",
              "  return element;\n",
              "}\n",
              "\n",
              "// Max number of bytes which will be uploaded at a time.\n",
              "const MAX_PAYLOAD_SIZE = 100 * 1024;\n",
              "\n",
              "function _uploadFiles(inputId, outputId) {\n",
              "  const steps = uploadFilesStep(inputId, outputId);\n",
              "  const outputElement = document.getElementById(outputId);\n",
              "  // Cache steps on the outputElement to make it available for the next call\n",
              "  // to uploadFilesContinue from Python.\n",
              "  outputElement.steps = steps;\n",
              "\n",
              "  return _uploadFilesContinue(outputId);\n",
              "}\n",
              "\n",
              "// This is roughly an async generator (not supported in the browser yet),\n",
              "// where there are multiple asynchronous steps and the Python side is going\n",
              "// to poll for completion of each step.\n",
              "// This uses a Promise to block the python side on completion of each step,\n",
              "// then passes the result of the previous step as the input to the next step.\n",
              "function _uploadFilesContinue(outputId) {\n",
              "  const outputElement = document.getElementById(outputId);\n",
              "  const steps = outputElement.steps;\n",
              "\n",
              "  const next = steps.next(outputElement.lastPromiseValue);\n",
              "  return Promise.resolve(next.value.promise).then((value) => {\n",
              "    // Cache the last promise value to make it available to the next\n",
              "    // step of the generator.\n",
              "    outputElement.lastPromiseValue = value;\n",
              "    return next.value.response;\n",
              "  });\n",
              "}\n",
              "\n",
              "/**\n",
              " * Generator function which is called between each async step of the upload\n",
              " * process.\n",
              " * @param {string} inputId Element ID of the input file picker element.\n",
              " * @param {string} outputId Element ID of the output display.\n",
              " * @return {!Iterable<!Object>} Iterable of next steps.\n",
              " */\n",
              "function* uploadFilesStep(inputId, outputId) {\n",
              "  const inputElement = document.getElementById(inputId);\n",
              "  inputElement.disabled = false;\n",
              "\n",
              "  const outputElement = document.getElementById(outputId);\n",
              "  outputElement.innerHTML = '';\n",
              "\n",
              "  const pickedPromise = new Promise((resolve) => {\n",
              "    inputElement.addEventListener('change', (e) => {\n",
              "      resolve(e.target.files);\n",
              "    });\n",
              "  });\n",
              "\n",
              "  const cancel = document.createElement('button');\n",
              "  inputElement.parentElement.appendChild(cancel);\n",
              "  cancel.textContent = 'Cancel upload';\n",
              "  const cancelPromise = new Promise((resolve) => {\n",
              "    cancel.onclick = () => {\n",
              "      resolve(null);\n",
              "    };\n",
              "  });\n",
              "\n",
              "  // Wait for the user to pick the files.\n",
              "  const files = yield {\n",
              "    promise: Promise.race([pickedPromise, cancelPromise]),\n",
              "    response: {\n",
              "      action: 'starting',\n",
              "    }\n",
              "  };\n",
              "\n",
              "  cancel.remove();\n",
              "\n",
              "  // Disable the input element since further picks are not allowed.\n",
              "  inputElement.disabled = true;\n",
              "\n",
              "  if (!files) {\n",
              "    return {\n",
              "      response: {\n",
              "        action: 'complete',\n",
              "      }\n",
              "    };\n",
              "  }\n",
              "\n",
              "  for (const file of files) {\n",
              "    const li = document.createElement('li');\n",
              "    li.append(span(file.name, {fontWeight: 'bold'}));\n",
              "    li.append(span(\n",
              "        `(${file.type || 'n/a'}) - ${file.size} bytes, ` +\n",
              "        `last modified: ${\n",
              "            file.lastModifiedDate ? file.lastModifiedDate.toLocaleDateString() :\n",
              "                                    'n/a'} - `));\n",
              "    const percent = span('0% done');\n",
              "    li.appendChild(percent);\n",
              "\n",
              "    outputElement.appendChild(li);\n",
              "\n",
              "    const fileDataPromise = new Promise((resolve) => {\n",
              "      const reader = new FileReader();\n",
              "      reader.onload = (e) => {\n",
              "        resolve(e.target.result);\n",
              "      };\n",
              "      reader.readAsArrayBuffer(file);\n",
              "    });\n",
              "    // Wait for the data to be ready.\n",
              "    let fileData = yield {\n",
              "      promise: fileDataPromise,\n",
              "      response: {\n",
              "        action: 'continue',\n",
              "      }\n",
              "    };\n",
              "\n",
              "    // Use a chunked sending to avoid message size limits. See b/62115660.\n",
              "    let position = 0;\n",
              "    do {\n",
              "      const length = Math.min(fileData.byteLength - position, MAX_PAYLOAD_SIZE);\n",
              "      const chunk = new Uint8Array(fileData, position, length);\n",
              "      position += length;\n",
              "\n",
              "      const base64 = btoa(String.fromCharCode.apply(null, chunk));\n",
              "      yield {\n",
              "        response: {\n",
              "          action: 'append',\n",
              "          file: file.name,\n",
              "          data: base64,\n",
              "        },\n",
              "      };\n",
              "\n",
              "      let percentDone = fileData.byteLength === 0 ?\n",
              "          100 :\n",
              "          Math.round((position / fileData.byteLength) * 100);\n",
              "      percent.textContent = `${percentDone}% done`;\n",
              "\n",
              "    } while (position < fileData.byteLength);\n",
              "  }\n",
              "\n",
              "  // All done.\n",
              "  yield {\n",
              "    response: {\n",
              "      action: 'complete',\n",
              "    }\n",
              "  };\n",
              "}\n",
              "\n",
              "scope.google = scope.google || {};\n",
              "scope.google.colab = scope.google.colab || {};\n",
              "scope.google.colab._files = {\n",
              "  _uploadFiles,\n",
              "  _uploadFilesContinue,\n",
              "};\n",
              "})(self);\n",
              "</script> "
            ],
            "text/plain": [
              "<IPython.core.display.HTML object>"
            ]
          },
          "metadata": {},
          "output_type": "display_data"
        },
        {
          "name": "stdout",
          "output_type": "stream",
          "text": [
            "Saving sample.csv to sample.csv\n"
          ]
        }
      ],
      "source": [
        "uploaded = files.upload()"
      ]
    },
    {
      "cell_type": "code",
      "execution_count": null,
      "metadata": {
        "colab": {
          "base_uri": "https://localhost:8080/"
        },
        "id": "tPEntcM-wenS",
        "outputId": "81bdbee7-7a76-42ce-d8f1-63adcdbc8bd0"
      },
      "outputs": [
        {
          "name": "stdout",
          "output_type": "stream",
          "text": [
            "        SALES  YEAR_ID\n",
            "0     2871.00     2003\n",
            "1     2765.90     2003\n",
            "2     3884.34     2003\n",
            "3     3746.70     2003\n",
            "4     5205.27     2003\n",
            "...       ...      ...\n",
            "2818  2244.40     2004\n",
            "2819  3978.51     2005\n",
            "2820  5417.57     2005\n",
            "2821  2116.16     2005\n",
            "2822  3079.44     2005\n",
            "\n",
            "[2823 rows x 2 columns]\n",
            "Average of Sales: 3553.889071909316\n",
            "Average of Sales Year: 2003.8150903294368\n"
          ]
        }
      ],
      "source": [
        "import pandas as pd\n",
        "df = pd.read_csv('sample.csv', encoding='latin-1')\n",
        "column1_data = df['SALES']\n",
        "column2_data = df['YEAR_ID']\n",
        "selected_columns = df[['SALES', 'YEAR_ID']]\n",
        "print(selected_columns)\n",
        "\n",
        "average_sales = df['SALES'].mean()\n",
        "average_salesY = df['YEAR_ID'].mean()\n",
        "\n",
        "# Print the average value\n",
        "print(\"Average of Sales:\", average_sales )\n",
        "print(\"Average of Sales Year:\", average_salesY )\n",
        "\n"
      ]
    },
    {
      "cell_type": "code",
      "execution_count": null,
      "metadata": {
        "colab": {
          "base_uri": "https://localhost:8080/"
        },
        "id": "imXSl983hhmn",
        "outputId": "f9a1eb90-b9c5-4317-d8f2-9e39e1819e37"
      },
      "outputs": [
        {
          "name": "stdout",
          "output_type": "stream",
          "text": [
            "   YEAR_ID  Predicted Profit\n",
            "0     2007       3852.759726\n",
            "1     2008       3946.599328\n",
            "2     2009       4040.438930\n"
          ]
        },
        {
          "name": "stderr",
          "output_type": "stream",
          "text": [
            "/usr/local/lib/python3.10/dist-packages/sklearn/base.py:439: UserWarning: X does not have valid feature names, but LinearRegression was fitted with feature names\n",
            "  warnings.warn(\n"
          ]
        }
      ],
      "source": [
        "import pandas as pd\n",
        "from sklearn.linear_model import LinearRegression\n",
        "\n",
        "df = pd.read_csv('sample.csv', encoding='latin-1')\n",
        "\n",
        "X = df[['YEAR_ID']]\n",
        "y = df['SALES']\n",
        "\n",
        "\n",
        "model = LinearRegression()\n",
        "\n",
        "\n",
        "model.fit(X, y)\n",
        "\n",
        "\n",
        "\n",
        "next_3_year = df['YEAR_ID'].max() + 1 + pd.Series([1, 2, 3])\n",
        "\n",
        "\n",
        "predicted_profit = model.predict(next_3_year.to_frame())\n",
        "\n",
        "# Create a DataFrame to store the predictions\n",
        "predictions_df = pd.DataFrame({'YEAR_ID': next_3_year, 'Predicted Profit': predicted_profit})\n",
        "\n",
        "print(predictions_df)\n",
        "\n"
      ]
    },
    {
      "cell_type": "code",
      "execution_count": null,
      "metadata": {
        "colab": {
          "base_uri": "https://localhost:8080/",
          "height": 599
        },
        "id": "5so3YyNelEJt",
        "outputId": "4fa73265-3f9d-4b95-af76-3709c003764a"
      },
      "outputs": [
        {
          "name": "stderr",
          "output_type": "stream",
          "text": [
            "/usr/local/lib/python3.10/dist-packages/sklearn/base.py:439: UserWarning: X does not have valid feature names, but LinearRegression was fitted with feature names\n",
            "  warnings.warn(\n"
          ]
        },
        {
          "data": {
            "image/png": "[encoded data removed]",
            "text/plain": [
              "<Figure size 1000x600 with 1 Axes>"
            ]
          },
          "metadata": {},
          "output_type": "display_data"
        }
      ],
      "source": [
        "from sklearn.linear_model import LinearRegression\n",
        "df = pd.read_csv('sample.csv', encoding='latin-1')\n",
        "X = df[['YEAR_ID']]\n",
        "y = df['SALES']\n",
        "model = LinearRegression()\n",
        "model.fit(X, y)\n",
        "\n",
        "\n",
        "next_3_year = df['YEAR_ID'].max() + 1 + pd.Series([1, 2, 3])\n",
        "predicted_profit = model.predict(next_3_year.to_frame())\n",
        "\n",
        "\n",
        "predictions_df = pd.DataFrame({'YEAR_ID': next_3_year, 'Predicted Profit': predicted_profit})\n",
        "plt.figure(figsize=(10, 6))\n",
        "\n",
        "\n",
        "plt.bar(df['YEAR_ID'], df['SALES'], color='blue', label='Current Profit')\n",
        "plt.bar(predictions_df['YEAR_ID'], predictions_df['Predicted Profit'], color='orange', label='Predicted Profit')\n",
        "\n",
        "\n",
        "plt.xlabel('YEAR_ID')\n",
        "plt.ylabel('Profit')\n",
        "plt.title('Current and Predicted Profit')\n",
        "plt.grid(True)\n",
        "plt.legend()\n",
        "\n",
        "\n",
        "plt.show()\n"
      ]
    },
    {
      "cell_type": "code",
      "execution_count": null,
      "metadata": {
        "colab": {
          "base_uri": "https://localhost:8080/"
        },
        "id": "jFGTIVMjmioW",
        "outputId": "6fd2c110-144c-40d8-9dcc-0fca46ab2364"
      },
      "outputs": [
        {
          "name": "stdout",
          "output_type": "stream",
          "text": [
            "   Year  Predicted Loss\n",
            "0  2024    -2551.967047\n",
            "1  2025    -2458.127445\n",
            "2  2026    -2364.287843\n"
          ]
        }
      ],
      "source": [
        "import pandas as pd\n",
        "from sklearn.linear_model import LinearRegression\n",
        "df = pd.read_csv('sample.csv', encoding='latin-1')\n",
        "operating_expenses = 5000\n",
        "cost_of_goods_sold = 3000\n",
        "df['Loss'] = df['SALES'] - (operating_expenses + cost_of_goods_sold)\n",
        "\n",
        "\n",
        "X = df['YEAR_ID'].values.reshape(-1, 1)\n",
        "y = df['Loss'].values\n",
        "\n",
        "\n",
        "model = LinearRegression()\n",
        "model.fit(X, y)\n",
        "\n",
        "next_3_years = pd.DataFrame({'Year': [2024, 2025, 2026]})\n",
        "predicted_losses = model.predict(next_3_years['Year'].values.reshape(-1, 1))\n",
        "\n",
        "\n",
        "next_3_years['Predicted Loss'] = predicted_losses\n",
        "print(next_3_years)\n",
        "\n"
      ]
    },
    {
      "cell_type": "code",
      "execution_count": null,
      "metadata": {
        "colab": {
          "base_uri": "https://localhost:8080/",
          "height": 564
        },
        "id": "8wdKhBQNpnO1",
        "outputId": "6bbe2f14-ddd0-411f-852e-c58f18f78b45"
      },
      "outputs": [
        {
          "data": {
            "image/png": "[encoded data removed]",
            "text/plain": [
              "<Figure size 1000x600 with 1 Axes>"
            ]
          },
          "metadata": {},
          "output_type": "display_data"
        }
      ],
      "source": [
        "import pandas as pd\n",
        "import matplotlib.pyplot as plt\n",
        "\n",
        "df = pd.read_csv('sample.csv', encoding='latin-1')\n",
        "\n",
        "operating_expenses = 5000\n",
        "cost_of_goods_sold = 3000\n",
        "df['Loss'] = df['SALES'] - (operating_expenses + cost_of_goods_sold)\n",
        "\n",
        "X = df['YEAR_ID'].values.reshape(-1, 1)\n",
        "y = df['Loss'].values\n",
        "\n",
        "next_3_years = pd.DataFrame({'Year': [2024, 2025, 2026]})\n",
        "predicted_losses = model.predict(next_3_years['Year'].values.reshape(-1, 1))\n",
        "next_3_years['Predicted Loss'] = predicted_losses\n",
        "plt.figure(figsize=(10, 6))\n",
        "plt.bar(df['YEAR_ID'], df['Loss'], color='red', label='Current Loss')\n",
        "plt.bar(next_3_years['Year'], next_3_years['Predicted Loss'], color='blue', label='Predicted Loss')\n",
        "\n",
        "\n",
        "plt.xlabel('Year')\n",
        "plt.ylabel('Loss')\n",
        "plt.title('Current and Predicted Loss Bar Graph')\n",
        "plt.grid(axis='y')\n",
        "plt.legend()\n",
        "plt.show()\n",
        "\n"
      ]
    }
  ],
  "metadata": {
    "colab": {
      "provenance": []
    },
    "kernelspec": {
      "display_name": "Python 3",
      "name": "python3"
    },
    "language_info": {
      "name": "python"
    }
  },
  "nbformat": 4,
  "nbformat_minor": 0
}
